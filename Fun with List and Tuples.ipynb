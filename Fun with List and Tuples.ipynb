{
 "cells": [
  {
   "cell_type": "code",
   "execution_count": 6,
   "id": "ee5c8390",
   "metadata": {},
   "outputs": [
    {
     "name": "stdout",
     "output_type": "stream",
     "text": [
      "[(2, 1), (1, 2), (2, 3), (4, 4), (2, 5)]\n"
     ]
    }
   ],
   "source": [
    "'''Write a Python program to get a list, sorted in increasing order by the last element in each tuple from a given list of non-empty tuples\n",
    "\n",
    "\n",
    "\n",
    "Sample List : [(2, 5), (1, 2), (4, 4), (2, 3), (2, 1)]\n",
    "\n",
    "Expected Result : [(2, 1), (1, 2), (2, 3), (4, 4), (2, 5)]'''\n",
    "sample_list=[(2, 5), (1, 2), (4, 4), (2, 3), (2, 1)]\n",
    "list_of_second_elememt_of_tuple=[]\n",
    "for x in sample_list:\n",
    "    list_of_second_elememt_of_tuple.append(x[1])\n",
    "sorted_list_of_tuple=list(set(sorted(list_of_second_elememt_of_tuple))) #here we will convert it in set and again in list so that if second letter of tuple is repeated it count it as single\n",
    "final_list=[]\n",
    "for y in sorted_list_of_tuple:\n",
    "        for x in sample_list:\n",
    "            if y==x[1]:\n",
    "                final_list.append(x)\n",
    "print(final_list)"
   ]
  },
  {
   "cell_type": "code",
   "execution_count": null,
   "id": "af3f9d7d",
   "metadata": {},
   "outputs": [],
   "source": []
  }
 ],
 "metadata": {
  "kernelspec": {
   "display_name": "Python 3 (ipykernel)",
   "language": "python",
   "name": "python3"
  },
  "language_info": {
   "codemirror_mode": {
    "name": "ipython",
    "version": 3
   },
   "file_extension": ".py",
   "mimetype": "text/x-python",
   "name": "python",
   "nbconvert_exporter": "python",
   "pygments_lexer": "ipython3",
   "version": "3.9.6"
  }
 },
 "nbformat": 4,
 "nbformat_minor": 5
}
